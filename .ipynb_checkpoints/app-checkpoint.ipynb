{
 "cells": [
  {
   "cell_type": "code",
   "execution_count": 1,
   "metadata": {},
   "outputs": [
    {
     "name": "stdout",
     "output_type": "stream",
     "text": [
      "Found 169 images belonging to 10 classes.\n",
      "Found 40 images belonging to 10 classes.\n",
      "Epoch 1/10\n"
     ]
    },
    {
     "name": "stderr",
     "output_type": "stream",
     "text": [
      "C:\\Users\\furka\\AppData\\Roaming\\Python\\Python38\\site-packages\\PIL\\Image.py:951: UserWarning: Palette images with Transparency expressed in bytes should be converted to RGBA images\n",
      "  warnings.warn(\n"
     ]
    },
    {
     "name": "stdout",
     "output_type": "stream",
     "text": [
      "6/6 [==============================] - 16s 3s/step - loss: 47.1697 - accuracy: 0.0947 - val_loss: 4.2309 - val_accuracy: 0.1500\n",
      "Epoch 2/10\n",
      "6/6 [==============================] - 14s 2s/step - loss: 2.7298 - accuracy: 0.2249 - val_loss: 1.9822 - val_accuracy: 0.2750\n",
      "Epoch 3/10\n",
      "6/6 [==============================] - 14s 2s/step - loss: 1.6953 - accuracy: 0.4083 - val_loss: 1.6017 - val_accuracy: 0.3250\n",
      "Epoch 4/10\n",
      "6/6 [==============================] - 15s 3s/step - loss: 1.0592 - accuracy: 0.6450 - val_loss: 1.3490 - val_accuracy: 0.4750\n",
      "Epoch 5/10\n",
      "6/6 [==============================] - 16s 3s/step - loss: 0.5290 - accuracy: 0.7988 - val_loss: 1.2942 - val_accuracy: 0.4750\n",
      "Epoch 6/10\n",
      "6/6 [==============================] - 15s 2s/step - loss: 0.2122 - accuracy: 0.9408 - val_loss: 1.1533 - val_accuracy: 0.5250\n",
      "Epoch 7/10\n",
      "6/6 [==============================] - 15s 2s/step - loss: 0.1361 - accuracy: 0.9704 - val_loss: 1.1619 - val_accuracy: 0.6750\n",
      "Epoch 8/10\n",
      "6/6 [==============================] - 16s 3s/step - loss: 0.0342 - accuracy: 0.9941 - val_loss: 1.1701 - val_accuracy: 0.6500\n",
      "Epoch 9/10\n",
      "6/6 [==============================] - 16s 3s/step - loss: 0.0119 - accuracy: 1.0000 - val_loss: 1.2401 - val_accuracy: 0.6750\n",
      "Epoch 10/10\n",
      "6/6 [==============================] - 16s 3s/step - loss: 0.0035 - accuracy: 1.0000 - val_loss: 1.3195 - val_accuracy: 0.6250\n"
     ]
    },
    {
     "ename": "TypeError",
     "evalue": "predict_and_visualize() missing 1 required positional argument: 'model_path'",
     "output_type": "error",
     "traceback": [
      "\u001b[1;31m---------------------------------------------------------------------------\u001b[0m",
      "\u001b[1;31mTypeError\u001b[0m                                 Traceback (most recent call last)",
      "\u001b[1;32m<ipython-input-1-a50c990bfcf2>\u001b[0m in \u001b[0;36m<module>\u001b[1;34m\u001b[0m\n\u001b[0;32m     93\u001b[0m \u001b[1;33m\u001b[0m\u001b[0m\n\u001b[0;32m     94\u001b[0m \u001b[1;31m# Test the function with an image\u001b[0m\u001b[1;33m\u001b[0m\u001b[1;33m\u001b[0m\u001b[1;33m\u001b[0m\u001b[0m\n\u001b[1;32m---> 95\u001b[1;33m \u001b[0mpredict_and_visualize\u001b[0m\u001b[1;33m(\u001b[0m\u001b[1;34m\"test.png\"\u001b[0m\u001b[1;33m)\u001b[0m\u001b[1;33m\u001b[0m\u001b[1;33m\u001b[0m\u001b[0m\n\u001b[0m",
      "\u001b[1;31mTypeError\u001b[0m: predict_and_visualize() missing 1 required positional argument: 'model_path'"
     ]
    }
   ],
   "source": [
    "import cv2\n",
    "import numpy as np\n",
    "from tensorflow.keras.models import Sequential\n",
    "from tensorflow.keras.layers import Conv2D, MaxPooling2D, Flatten, Dense\n",
    "from tensorflow.keras.preprocessing.image import ImageDataGenerator\n",
    "from keras.models import load_model\n",
    "\n",
    "# Define constants\n",
    "IMG_SIZE = 224  # VGG16 input size\n",
    "BATCH_SIZE = 32\n",
    "N_CLASSES = 10  # Number of classes/ingredients in your dataset\n",
    "N_EPOCHS = 10\n",
    "DATA_DIR = \"allData\"  # Base directory containing ingredient directories\n",
    "\n",
    "# Define the VGGNet model\n",
    "model = Sequential([\n",
    "    # Simplified version of VGGNet\n",
    "    Conv2D(64, (3, 3), activation='relu', padding='same', input_shape=(IMG_SIZE, IMG_SIZE, 3)),\n",
    "    Conv2D(64, (3, 3), activation='relu', padding='same'),\n",
    "    MaxPooling2D((2, 2)),\n",
    "    Flatten(),\n",
    "    Dense(128, activation='relu'),\n",
    "    Dense(N_CLASSES, activation='softmax')  \n",
    "])\n",
    "\n",
    "model.compile(optimizer='adam', loss='categorical_crossentropy', metrics=['accuracy'])\n",
    "\n",
    "# Prepare the data\n",
    "datagen = ImageDataGenerator(rescale=1./255, validation_split=0.2)\n",
    "\n",
    "train_gen = datagen.flow_from_directory(\n",
    "    DATA_DIR,\n",
    "    target_size=(IMG_SIZE, IMG_SIZE),\n",
    "    batch_size=BATCH_SIZE,\n",
    "    class_mode='categorical',\n",
    "    subset='training'\n",
    ")\n",
    "\n",
    "val_gen = datagen.flow_from_directory(\n",
    "    DATA_DIR,\n",
    "    target_size=(IMG_SIZE, IMG_SIZE),\n",
    "    batch_size=BATCH_SIZE,\n",
    "    class_mode='categorical',\n",
    "    subset='validation'\n",
    ")\n",
    "\n",
    "# Train the model\n",
    "model.fit(train_gen, epochs=N_EPOCHS, validation_data=val_gen)\n",
    "\n",
    "# Save the model\n",
    "model.save('ingredient_classifier.h5')\n",
    "\n",
    "# Function for prediction and visualization\n",
    "\"\"\"def predict_and_visualize(img_path):\n",
    "    img = cv2.imread(img_path)\n",
    "    img = cv2.resize(img, (IMG_SIZE, IMG_SIZE))\n",
    "    img = img / 255.0\n",
    "    img = img.reshape((1, IMG_SIZE, IMG_SIZE, 3))\n",
    "    prediction = model.predict(img)\n",
    "    predicted_class = np.argmax(prediction, axis=1)\n",
    "\n",
    "    # Visualization\n",
    "    img = cv2.imread(img_path)\n",
    "    height, width, _ = img.shape\n",
    "    cv2.rectangle(img, (width//2 - 50, height//2 - 50), (width//2 + 50, height//2 + 50), (0, 255, 0), 2)\n",
    "    cv2.putText(img, str(predicted_class), (width//2, height//2), cv2.FONT_HERSHEY_SIMPLEX, 1, (0, 0, 255), 2)\n",
    "    cv2.imshow(\"Prediction\", img)\n",
    "    cv2.waitKey(0)\n",
    "    cv2.destroyAllWindows()\"\"\""
   ]
  },
  {
   "cell_type": "code",
   "execution_count": null,
   "metadata": {},
   "outputs": [
    {
     "name": "stdout",
     "output_type": "stream",
     "text": [
      "1/1 [==============================] - 0s 121ms/step\n",
      "1/1 [==============================] - 0s 61ms/step\n",
      "1/1 [==============================] - 0s 67ms/step\n",
      "1/1 [==============================] - 0s 67ms/step\n",
      "1/1 [==============================] - 0s 65ms/step\n",
      "1/1 [==============================] - 0s 65ms/step\n",
      "1/1 [==============================] - 0s 69ms/step\n",
      "1/1 [==============================] - 0s 69ms/step\n",
      "1/1 [==============================] - 0s 62ms/step\n",
      "1/1 [==============================] - 0s 63ms/step\n"
     ]
    }
   ],
   "source": [
    "ingredient_names = ['Avocado', 'Cucumber', 'Patty', 'Lettuce', 'Mushrooms', 'Onion Rings', 'Pepper', 'Pickle', 'Cheddar', 'Tomato']\n",
    "\n",
    "\n",
    "def predict_and_visualize_multiple(img_path, model_path):\n",
    "    # Load the pre-trained model\n",
    "    model = load_model(model_path)\n",
    "    \n",
    "    # Load the image\n",
    "    img = cv2.imread(img_path)\n",
    "    \n",
    "    # Determine the size of the grid\n",
    "    grid_size = (2, 5) if len(img) < len(img[0]) else (5, 2)\n",
    "    tile_size = (img.shape[0] // grid_size[0], img.shape[1] // grid_size[1])\n",
    "\n",
    "    # Iterate over the grid\n",
    "    for i in range(grid_size[0]):\n",
    "        for j in range(grid_size[1]):\n",
    "            # Extract the tile\n",
    "            tile = img[i * tile_size[0] : (i+1) * tile_size[0], j * tile_size[1] : (j+1) * tile_size[1]]\n",
    "\n",
    "            # Preprocess the tile\n",
    "            tile_resized = cv2.resize(tile, (IMG_SIZE, IMG_SIZE))\n",
    "            tile_resized = tile_resized / 255.0\n",
    "            tile_resized = tile_resized.reshape((1, IMG_SIZE, IMG_SIZE, 3))\n",
    "            \n",
    "            # Make prediction\n",
    "            prediction = model.predict(tile_resized)\n",
    "            predicted_class = np.argmax(prediction, axis=1)\n",
    "            predicted_class_name = ingredient_names[predicted_class[0]]\n",
    "            \n",
    "            # Visualization\n",
    "            cv2.rectangle(img, (j * tile_size[1], i * tile_size[0]), ((j+1) * tile_size[1], (i+1) * tile_size[0]), (0, 255, 0), 2)\n",
    "            cv2.putText(img, str(predicted_class_name), (j * tile_size[1] + tile_size[1]//2, i * tile_size[0] + tile_size[0]//2), cv2.FONT_HERSHEY_SIMPLEX, 1, (0, 0, 255), 2)\n",
    "    \n",
    "    cv2.imshow(\"Prediction\", img)\n",
    "    cv2.waitKey(0)\n",
    "    cv2.destroyAllWindows()\n",
    "\n",
    "# Test the function with an image\n",
    "predict_and_visualize_multiple(\"test.png\", \"ingredient_classifier.h5\")"
   ]
  },
  {
   "cell_type": "code",
   "execution_count": null,
   "metadata": {},
   "outputs": [],
   "source": []
  }
 ],
 "metadata": {
  "kernelspec": {
   "display_name": "Python 3",
   "language": "python",
   "name": "python3"
  },
  "language_info": {
   "codemirror_mode": {
    "name": "ipython",
    "version": 3
   },
   "file_extension": ".py",
   "mimetype": "text/x-python",
   "name": "python",
   "nbconvert_exporter": "python",
   "pygments_lexer": "ipython3",
   "version": "3.8.8"
  }
 },
 "nbformat": 4,
 "nbformat_minor": 4
}
