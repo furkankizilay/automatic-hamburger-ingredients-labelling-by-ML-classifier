{
 "cells": [
  {
   "cell_type": "markdown",
   "metadata": {},
   "source": [
    "### Implement the project\n",
    "\n",
    "**Classifier Model:** We will use the VGGNet CNN model for this task as it has proven effective in various image classification problems and is suitable for our case of food ingredient identification.\n",
    "\n",
    "**Image Processing:** Since no proficiency is expected, we will rely on simple logics. We will divide the camera view into 10 equal parts and assume that ingredients are placed on the centers of these divisions. We will extract image patches centered on these division points.\n",
    "\n",
    "**Data:** For our initial model, we will need to create a dataset from images captured with our camera or we can use existing datasets found on the internet. We would need labeled images of each ingredient, preferably centered in the image for simplicity.\n",
    "\n",
    "**Implementation:** We will use Python and its powerful libraries for machine learning, such as TensorFlow, Keras, and OpenCV.\n",
    "\n",
    "**Labeling:** Once our model is trained and able to make predictions, we will create a script that takes a new image, divides it into sections, extracts the central points, makes a prediction for each point and finally draws a box with the corresponding label.\n",
    "\n",
    "### Project outline with steps to follow\n",
    "\n",
    "**Data Collection:** Collect images of each ingredient. Each image should ideally contain a single ingredient centered in the image.\n",
    "\n",
    "**Data Preprocessing:** Preprocess the images. This includes resizing images, normalizing pixel values, dividing images into equal parts, and extracting the central points as per the project requirements.\n",
    "\n",
    "**Model Training:** Implement the VGGNet model using TensorFlow and Keras. Train the model using the preprocessed images and corresponding labels.\n",
    "\n",
    "**Model Evaluation:** Split your dataset into training, validation, and test datasets. Evaluate your model on the test dataset to understand its performance.\n",
    "\n",
    "**Model Prediction & Visualization:** Write a function to predict labels on new images. This function should also draw boxes and write the predicted labels on the boxes."
   ]
  },
  {
   "cell_type": "markdown",
   "metadata": {},
   "source": [
    "### Import the required libraries"
   ]
  },
  {
   "cell_type": "code",
   "execution_count": 8,
   "metadata": {},
   "outputs": [],
   "source": [
    "import cv2\n",
    "import numpy as np\n",
    "from tensorflow.keras.models import Sequential\n",
    "from tensorflow.keras.layers import Conv2D, MaxPooling2D, Flatten, Dense\n",
    "from tensorflow.keras.preprocessing.image import ImageDataGenerator\n",
    "from keras.models import load_model\n",
    "import matplotlib.pyplot as plt\n",
    "import seaborn as sns\n",
    "import warnings"
   ]
  },
  {
   "cell_type": "markdown",
   "metadata": {},
   "source": [
    "### Ignore warning messages"
   ]
  },
  {
   "cell_type": "code",
   "execution_count": 9,
   "metadata": {},
   "outputs": [],
   "source": [
    "warnings.filterwarnings('ignore')"
   ]
  },
  {
   "cell_type": "markdown",
   "metadata": {},
   "source": [
    "### Define constants"
   ]
  },
  {
   "cell_type": "code",
   "execution_count": 10,
   "metadata": {},
   "outputs": [],
   "source": [
    "# Define constants\n",
    "IMG_SIZE = 224  # VGG16 input size\n",
    "BATCH_SIZE = 32\n",
    "N_CLASSES = 10  # Number of classes/ingredients in your dataset\n",
    "N_EPOCHS = 10\n",
    "DATA_DIR = \"allData\"  # Base directory containing ingredient directories"
   ]
  },
  {
   "cell_type": "markdown",
   "metadata": {},
   "source": [
    "### Define the VGGNet model"
   ]
  },
  {
   "cell_type": "code",
   "execution_count": 11,
   "metadata": {},
   "outputs": [],
   "source": [
    "# Define the VGGNet model\n",
    "model = Sequential([\n",
    "    # Simplified version of VGGNet\n",
    "    Conv2D(64, (3, 3), activation='relu', padding='same', input_shape=(IMG_SIZE, IMG_SIZE, 3)),\n",
    "    Conv2D(64, (3, 3), activation='relu', padding='same'),\n",
    "    MaxPooling2D((2, 2)),\n",
    "    Flatten(),\n",
    "    Dense(128, activation='relu'),\n",
    "    Dense(N_CLASSES, activation='softmax')  \n",
    "])"
   ]
  },
  {
   "cell_type": "markdown",
   "metadata": {},
   "source": [
    "### Compile the model"
   ]
  },
  {
   "cell_type": "markdown",
   "metadata": {},
   "source": [
    "***Model Definition and Compilation:** The model architecture is defined using the Sequential API, consisting of convolutional, max-pooling, flatten, and dense layers. The model is compiled with the Adam optimizer and categorical cross-entropy loss."
   ]
  },
  {
   "cell_type": "code",
   "execution_count": 12,
   "metadata": {},
   "outputs": [],
   "source": [
    "model.compile(optimizer='adam', loss='categorical_crossentropy', metrics=['accuracy'])"
   ]
  },
  {
   "cell_type": "markdown",
   "metadata": {},
   "source": [
    "### Prepare the data"
   ]
  },
  {
   "cell_type": "markdown",
   "metadata": {},
   "source": [
    "**Data Preparation:** The ImageDataGenerator is used to load and preprocess the image data from the specified directory. Separate generators are created for training and validation data using the flow_from_directory method."
   ]
  },
  {
   "cell_type": "code",
   "execution_count": 13,
   "metadata": {},
   "outputs": [
    {
     "name": "stdout",
     "output_type": "stream",
     "text": [
      "Found 169 images belonging to 10 classes.\n",
      "Found 40 images belonging to 10 classes.\n"
     ]
    }
   ],
   "source": [
    "# Prepare the data\n",
    "datagen = ImageDataGenerator(rescale=1./255, validation_split=0.2)\n",
    "\n",
    "train_gen = datagen.flow_from_directory(\n",
    "    DATA_DIR,\n",
    "    target_size=(IMG_SIZE, IMG_SIZE),\n",
    "    batch_size=BATCH_SIZE,\n",
    "    class_mode='categorical',\n",
    "    subset='training'\n",
    ")\n",
    "\n",
    "val_gen = datagen.flow_from_directory(\n",
    "    DATA_DIR,\n",
    "    target_size=(IMG_SIZE, IMG_SIZE),\n",
    "    batch_size=BATCH_SIZE,\n",
    "    class_mode='categorical',\n",
    "    subset='validation'\n",
    ")"
   ]
  },
  {
   "cell_type": "markdown",
   "metadata": {},
   "source": [
    "### Train the model"
   ]
  },
  {
   "cell_type": "markdown",
   "metadata": {},
   "source": [
    "**Model Training:** The model is trained using the fit method with the training data generator. The number of epochs and the validation data generator are specified."
   ]
  },
  {
   "cell_type": "code",
   "execution_count": 14,
   "metadata": {},
   "outputs": [
    {
     "name": "stdout",
     "output_type": "stream",
     "text": [
      "Epoch 1/10\n",
      "6/6 [==============================] - 19s 3s/step - loss: 25.5175 - accuracy: 0.1243 - val_loss: 3.3442 - val_accuracy: 0.0750\n",
      "Epoch 2/10\n",
      "6/6 [==============================] - 16s 3s/step - loss: 2.2466 - accuracy: 0.1834 - val_loss: 1.9562 - val_accuracy: 0.3250\n",
      "Epoch 3/10\n",
      "6/6 [==============================] - 15s 3s/step - loss: 1.3718 - accuracy: 0.5207 - val_loss: 1.3281 - val_accuracy: 0.4750\n",
      "Epoch 4/10\n",
      "6/6 [==============================] - 16s 3s/step - loss: 0.8888 - accuracy: 0.7160 - val_loss: 2.3900 - val_accuracy: 0.2750\n",
      "Epoch 5/10\n",
      "6/6 [==============================] - 16s 3s/step - loss: 0.9868 - accuracy: 0.7574 - val_loss: 1.5330 - val_accuracy: 0.4500\n",
      "Epoch 6/10\n",
      "6/6 [==============================] - 16s 3s/step - loss: 0.6511 - accuracy: 0.7692 - val_loss: 1.3587 - val_accuracy: 0.5000\n",
      "Epoch 7/10\n",
      "6/6 [==============================] - 16s 3s/step - loss: 0.3590 - accuracy: 0.8994 - val_loss: 1.3656 - val_accuracy: 0.5250\n",
      "Epoch 8/10\n",
      "6/6 [==============================] - 16s 3s/step - loss: 0.1300 - accuracy: 0.9763 - val_loss: 1.4985 - val_accuracy: 0.4750\n",
      "Epoch 9/10\n",
      "6/6 [==============================] - 16s 3s/step - loss: 0.0783 - accuracy: 0.9941 - val_loss: 1.6186 - val_accuracy: 0.5750\n",
      "Epoch 10/10\n",
      "6/6 [==============================] - 16s 3s/step - loss: 0.0379 - accuracy: 0.9941 - val_loss: 1.5640 - val_accuracy: 0.5750\n"
     ]
    }
   ],
   "source": [
    "# Train the model\n",
    "history = model.fit(train_gen, epochs=N_EPOCHS, validation_data=val_gen)"
   ]
  },
  {
   "cell_type": "code",
   "execution_count": 19,
   "metadata": {},
   "outputs": [
    {
     "name": "stdout",
     "output_type": "stream",
     "text": [
      "Model: \"sequential_1\"\n",
      "_________________________________________________________________\n",
      " Layer (type)                Output Shape              Param #   \n",
      "=================================================================\n",
      " conv2d_2 (Conv2D)           (None, 224, 224, 64)      1792      \n",
      "                                                                 \n",
      " conv2d_3 (Conv2D)           (None, 224, 224, 64)      36928     \n",
      "                                                                 \n",
      " max_pooling2d_1 (MaxPooling  (None, 112, 112, 64)     0         \n",
      " 2D)                                                             \n",
      "                                                                 \n",
      " flatten_1 (Flatten)         (None, 802816)            0         \n",
      "                                                                 \n",
      " dense_2 (Dense)             (None, 128)               102760576 \n",
      "                                                                 \n",
      " dense_3 (Dense)             (None, 10)                1290      \n",
      "                                                                 \n",
      "=================================================================\n",
      "Total params: 102,800,586\n",
      "Trainable params: 102,800,586\n",
      "Non-trainable params: 0\n",
      "_________________________________________________________________\n"
     ]
    }
   ],
   "source": [
    "model.summary()"
   ]
  },
  {
   "cell_type": "markdown",
   "metadata": {},
   "source": [
    "### Plotting Training Loss and Training Accuracy"
   ]
  },
  {
   "cell_type": "markdown",
   "metadata": {},
   "source": [
    "**Plotting Training Loss and Accuracy:** The training and validation loss and accuracy are plotted using Matplotlib. Two subplots are created for loss and accuracy."
   ]
  },
  {
   "cell_type": "code",
   "execution_count": 15,
   "metadata": {},
   "outputs": [
    {
     "data": {
      "image/png": "[encoded data removed]",
      "text/plain": [
       "<Figure size 720x360 with 2 Axes>"
      ]
     },
     "metadata": {
      "needs_background": "light"
     },
     "output_type": "display_data"
    }
   ],
   "source": [
    "# Plotting Training Loss\n",
    "plt.figure(figsize=(10,5))\n",
    "plt.subplot(1, 2, 1)\n",
    "plt.plot(history.history['loss'], label='Train Loss')\n",
    "plt.plot(history.history['val_loss'], label='Validation Loss')\n",
    "plt.title('Losses')\n",
    "plt.legend()\n",
    "\n",
    "# Plotting Training Accuracy\n",
    "plt.subplot(1, 2, 2)\n",
    "plt.plot(history.history['accuracy'], label='Train Accuracy')\n",
    "plt.plot(history.history['val_accuracy'], label='Validation Accuracy')\n",
    "plt.title('Accuracies')\n",
    "plt.legend()\n",
    "\n",
    "plt.tight_layout()\n",
    "plt.show() \n",
    "\n",
    "# Save the model\n",
    "model.save('ingredient_classifier.h5')"
   ]
  },
  {
   "cell_type": "markdown",
   "metadata": {},
   "source": [
    "### Guessing what a material is by giving a picture of it"
   ]
  },
  {
   "cell_type": "markdown",
   "metadata": {},
   "source": [
    "**Prediction and Visualization:** The predict_and_visualize function takes an image path, loads and preprocesses the image, performs prediction using the trained model, and visualizes the prediction by drawing a rectangle around the image and displaying the predicted ingredient name."
   ]
  },
  {
   "cell_type": "code",
   "execution_count": 16,
   "metadata": {},
   "outputs": [],
   "source": [
    "ingredient_names = ['Avocado', 'Cucumber', 'Patty', 'Lettuce', 'Mushrooms', 'Onion Rings', 'Pepper', 'Pickle', 'Cheddar', 'Tomato']"
   ]
  },
  {
   "cell_type": "code",
   "execution_count": 17,
   "metadata": {},
   "outputs": [
    {
     "name": "stdout",
     "output_type": "stream",
     "text": [
      "1/1 [==============================] - 0s 165ms/step\n"
     ]
    }
   ],
   "source": [
    "def predict_and_visualize(img_path):\n",
    "    img = cv2.imread(img_path)\n",
    "    img = cv2.resize(img, (IMG_SIZE, IMG_SIZE))\n",
    "    img = img / 255.0\n",
    "    img = img.reshape((1, IMG_SIZE, IMG_SIZE, 3))\n",
    "    prediction = model.predict(img)\n",
    "    predicted_class = np.argmax(prediction, axis=1)\n",
    "    predicted_class_name = ingredient_names[predicted_class[0]]\n",
    "\n",
    "    # Visualization\n",
    "    img = cv2.imread(img_path)\n",
    "    height, width, _ = img.shape\n",
    "    cv2.rectangle(img, (0, 0), (width, height), (0, 255, 0), 2)\n",
    "    cv2.putText(img, predicted_class_name, (width//2, height//2), cv2.FONT_HERSHEY_SIMPLEX, 1, (0, 0, 255), 2)\n",
    "    cv2.imshow(\"Prediction\", img)\n",
    "    cv2.waitKey(0)\n",
    "    cv2.destroyAllWindows()\n",
    "    \n",
    "predict_and_visualize(\"allData/avocado/0.png\")"
   ]
  },
  {
   "cell_type": "markdown",
   "metadata": {},
   "source": [
    "### Guessing each ingredient separately by giving all the hamburger ingredients"
   ]
  },
  {
   "cell_type": "markdown",
   "metadata": {},
   "source": [
    "**Multiple-Image Grid Prediction and Visualization:** The predict_and_visualize_multiple function loads the trained model, loads the input image, determines the grid size based on the image dimensions, iterates over the grid, extracts each tile from the image, preprocesses the tile, performs prediction using the model, and visualizes the predictions by drawing rectangles and displaying the predicted ingredient names within each tile."
   ]
  },
  {
   "cell_type": "code",
   "execution_count": 18,
   "metadata": {},
   "outputs": [
    {
     "name": "stdout",
     "output_type": "stream",
     "text": [
      "1/1 [==============================] - 0s 176ms/step\n",
      "1/1 [==============================] - 0s 96ms/step\n",
      "1/1 [==============================] - 0s 92ms/step\n",
      "1/1 [==============================] - 0s 129ms/step\n",
      "1/1 [==============================] - 0s 124ms/step\n",
      "1/1 [==============================] - 0s 88ms/step\n",
      "1/1 [==============================] - 0s 85ms/step\n",
      "1/1 [==============================] - 0s 109ms/step\n",
      "1/1 [==============================] - 0s 97ms/step\n",
      "1/1 [==============================] - 0s 100ms/step\n"
     ]
    }
   ],
   "source": [
    "def predict_and_visualize_multiple(img_path, model_path):\n",
    "    # Load the pre-trained model\n",
    "    model = load_model(model_path)\n",
    "    \n",
    "    # Load the image\n",
    "    img = cv2.imread(img_path)\n",
    "    \n",
    "    # Determine the size of the grid\n",
    "    grid_size = (2, 5) if len(img) < len(img[0]) else (5, 2)\n",
    "    tile_size = (img.shape[0] // grid_size[0], img.shape[1] // grid_size[1])\n",
    "\n",
    "    # Iterate over the grid\n",
    "    for i in range(grid_size[0]):\n",
    "        for j in range(grid_size[1]):\n",
    "            # Extract the tile\n",
    "            tile = img[i * tile_size[0] : (i+1) * tile_size[0], j * tile_size[1] : (j+1) * tile_size[1]]\n",
    "\n",
    "            # Preprocess the tile\n",
    "            tile_resized = cv2.resize(tile, (IMG_SIZE, IMG_SIZE))\n",
    "            tile_resized = tile_resized / 255.0\n",
    "            tile_resized = tile_resized.reshape((1, IMG_SIZE, IMG_SIZE, 3))\n",
    "            \n",
    "            # Make prediction\n",
    "            prediction = model.predict(tile_resized)\n",
    "            predicted_class = np.argmax(prediction, axis=1)\n",
    "            predicted_class_name = ingredient_names[predicted_class[0]]\n",
    "            \n",
    "            # Visualization\n",
    "            cv2.rectangle(img, (j * tile_size[1], i * tile_size[0]), ((j+1) * tile_size[1], (i+1) * tile_size[0]), (0, 255, 0), 2)\n",
    "            cv2.putText(img, str(predicted_class_name), (j * tile_size[1] + tile_size[1]//2, i * tile_size[0] + tile_size[0]//2), cv2.FONT_HERSHEY_SIMPLEX, 1, (0, 0, 255), 2)\n",
    "    \n",
    "    cv2.imshow(\"Prediction\", img)\n",
    "    cv2.waitKey(0)\n",
    "    cv2.destroyAllWindows()\n",
    "\n",
    "# Test the function with an image\n",
    "predict_and_visualize_multiple(\"test.png\", \"ingredient_classifier.h5\")"
   ]
  }
 ],
 "metadata": {
  "kernelspec": {
   "display_name": "Python 3",
   "language": "python",
   "name": "python3"
  },
  "language_info": {
   "codemirror_mode": {
    "name": "ipython",
    "version": 3
   },
   "file_extension": ".py",
   "mimetype": "text/x-python",
   "name": "python",
   "nbconvert_exporter": "python",
   "pygments_lexer": "ipython3",
   "version": "3.8.8"
  }
 },
 "nbformat": 4,
 "nbformat_minor": 4
}
